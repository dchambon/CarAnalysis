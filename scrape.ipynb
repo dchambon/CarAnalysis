{
 "cells": [
  {
   "cell_type": "code",
   "execution_count": 9,
   "metadata": {},
   "outputs": [],
   "source": [
    "from selenium import webdriver\n",
    "from selenium.webdriver.chrome.service import Service\n",
    "# from webdriver_manager.chrome import ChromeDriverManager\n",
    "import pandas as pd\n",
    "from tqdm import tqdm"
   ]
  },
  {
   "cell_type": "code",
   "execution_count": 10,
   "metadata": {},
   "outputs": [],
   "source": [
    "driver = webdriver.Safari()"
   ]
  },
  {
   "cell_type": "code",
   "execution_count": 11,
   "metadata": {},
   "outputs": [
    {
     "name": "stdout",
     "output_type": "stream",
     "text": [
      "pages: 222\n"
     ]
    }
   ],
   "source": [
    "size = 10000\n",
    "pages = (int)((size*1.1/50)+1) + 1\n",
    "print(\"pages:\",pages)\n",
    "\n",
    "comments = pd.DataFrame(columns = ['Date','comments']) "
   ]
  },
  {
   "cell_type": "code",
   "execution_count": 12,
   "metadata": {},
   "outputs": [
    {
     "name": "stderr",
     "output_type": "stream",
     "text": [
      "100%|██████████| 221/221 [17:57<00:00,  4.88s/it]\n"
     ]
    }
   ],
   "source": [
    "\n",
    "for i in tqdm(range(1, pages)):\n",
    "    driver.get('https://forums.edmunds.com/discussion/2864/general/x/entry-level-luxury-performance-sedans/p{}'.format(i))\n",
    "    ids = driver.find_elements(\"xpath\", \"//*[contains(@id,'Comment_')]\")\n",
    "    comment_ids = []\n",
    "    for x in ids:\n",
    "        comment_ids.append(x.get_attribute('id'))\n",
    "\n",
    "    for y in comment_ids:\n",
    "        #Extract dates from for each user on a page\n",
    "        comment_date = driver.find_element(\"xpath\", '//*[@id=\"' + y +'\"]/div/div[2]/div[2]/span[1]/a/time')\n",
    "        date = comment_date.get_attribute('title')\n",
    "\n",
    "        #Extract Message for each user on a page\n",
    "        comment_message = driver.find_element(\"xpath\", '//*[@id=\"' + y +'\"]/div/div[3]/div/div[1]')\n",
    "        comment = comment_message.text\n",
    "                                   \n",
    "        #Adding date, userid and comment for each user in a dataframe    \n",
    "        comments.loc[len(comments)] = [date,comment]"
   ]
  },
  {
   "cell_type": "code",
   "execution_count": 13,
   "metadata": {},
   "outputs": [
    {
     "data": {
      "text/html": [
       "<div>\n",
       "<style scoped>\n",
       "    .dataframe tbody tr th:only-of-type {\n",
       "        vertical-align: middle;\n",
       "    }\n",
       "\n",
       "    .dataframe tbody tr th {\n",
       "        vertical-align: top;\n",
       "    }\n",
       "\n",
       "    .dataframe thead th {\n",
       "        text-align: right;\n",
       "    }\n",
       "</style>\n",
       "<table border=\"1\" class=\"dataframe\">\n",
       "  <thead>\n",
       "    <tr style=\"text-align: right;\">\n",
       "      <th></th>\n",
       "      <th>Date</th>\n",
       "      <th>comments</th>\n",
       "    </tr>\n",
       "  </thead>\n",
       "  <tbody>\n",
       "    <tr>\n",
       "      <th>11045</th>\n",
       "      <td>September 22, 2010 2:47PM</td>\n",
       "      <td>\\nThat's why I avoid buying the 1st year of a ...</td>\n",
       "    </tr>\n",
       "    <tr>\n",
       "      <th>11046</th>\n",
       "      <td>September 22, 2010 4:36PM</td>\n",
       "      <td>\\nAs I understand it, the issue isn't the alig...</td>\n",
       "    </tr>\n",
       "    <tr>\n",
       "      <th>11047</th>\n",
       "      <td>September 22, 2010 6:11PM</td>\n",
       "      <td>\\nwell the software glitch is causing an align...</td>\n",
       "    </tr>\n",
       "    <tr>\n",
       "      <th>11048</th>\n",
       "      <td>September 23, 2010 2:48AM</td>\n",
       "      <td>\\nNot to worry, they'll get it right.</td>\n",
       "    </tr>\n",
       "    <tr>\n",
       "      <th>11049</th>\n",
       "      <td>September 23, 2010 5:55AM</td>\n",
       "      <td>\\nInfiniti just announced pricing for the G25....</td>\n",
       "    </tr>\n",
       "  </tbody>\n",
       "</table>\n",
       "</div>"
      ],
      "text/plain": [
       "                            Date  \\\n",
       "11045  September 22, 2010 2:47PM   \n",
       "11046  September 22, 2010 4:36PM   \n",
       "11047  September 22, 2010 6:11PM   \n",
       "11048  September 23, 2010 2:48AM   \n",
       "11049  September 23, 2010 5:55AM   \n",
       "\n",
       "                                                comments  \n",
       "11045  \\nThat's why I avoid buying the 1st year of a ...  \n",
       "11046  \\nAs I understand it, the issue isn't the alig...  \n",
       "11047  \\nwell the software glitch is causing an align...  \n",
       "11048            \\nNot to worry, they'll get it right.    \n",
       "11049  \\nInfiniti just announced pricing for the G25....  "
      ]
     },
     "execution_count": 13,
     "metadata": {},
     "output_type": "execute_result"
    }
   ],
   "source": [
    "comments.tail()"
   ]
  },
  {
   "cell_type": "code",
   "execution_count": 14,
   "metadata": {},
   "outputs": [
    {
     "data": {
      "text/html": [
       "<div>\n",
       "<style scoped>\n",
       "    .dataframe tbody tr th:only-of-type {\n",
       "        vertical-align: middle;\n",
       "    }\n",
       "\n",
       "    .dataframe tbody tr th {\n",
       "        vertical-align: top;\n",
       "    }\n",
       "\n",
       "    .dataframe thead th {\n",
       "        text-align: right;\n",
       "    }\n",
       "</style>\n",
       "<table border=\"1\" class=\"dataframe\">\n",
       "  <thead>\n",
       "    <tr style=\"text-align: right;\">\n",
       "      <th></th>\n",
       "      <th>Date</th>\n",
       "      <th>comments</th>\n",
       "    </tr>\n",
       "  </thead>\n",
       "  <tbody>\n",
       "    <tr>\n",
       "      <th>count</th>\n",
       "      <td>11050</td>\n",
       "      <td>11050</td>\n",
       "    </tr>\n",
       "    <tr>\n",
       "      <th>unique</th>\n",
       "      <td>10876</td>\n",
       "      <td>11015</td>\n",
       "    </tr>\n",
       "    <tr>\n",
       "      <th>top</th>\n",
       "      <td>August 18, 2005 1:53PM</td>\n",
       "      <td>\\n</td>\n",
       "    </tr>\n",
       "    <tr>\n",
       "      <th>freq</th>\n",
       "      <td>4</td>\n",
       "      <td>12</td>\n",
       "    </tr>\n",
       "  </tbody>\n",
       "</table>\n",
       "</div>"
      ],
      "text/plain": [
       "                          Date comments\n",
       "count                    11050    11050\n",
       "unique                   10876    11015\n",
       "top     August 18, 2005 1:53PM       \\n\n",
       "freq                         4       12"
      ]
     },
     "execution_count": 14,
     "metadata": {},
     "output_type": "execute_result"
    }
   ],
   "source": [
    "comments.describe()"
   ]
  },
  {
   "cell_type": "code",
   "execution_count": 15,
   "metadata": {},
   "outputs": [],
   "source": [
    "comments.to_csv(\"edmunds_forum.csv\")"
   ]
  }
 ],
 "metadata": {
  "kernelspec": {
   "display_name": "Python 3.9.12 ('base')",
   "language": "python",
   "name": "python3"
  },
  "language_info": {
   "codemirror_mode": {
    "name": "ipython",
    "version": 3
   },
   "file_extension": ".py",
   "mimetype": "text/x-python",
   "name": "python",
   "nbconvert_exporter": "python",
   "pygments_lexer": "ipython3",
   "version": "3.9.12"
  },
  "orig_nbformat": 4,
  "vscode": {
   "interpreter": {
    "hash": "a2f36d4f0fab32c067f747ee04c69255073dcd12dd897c9c524bc34636b9f1b8"
   }
  }
 },
 "nbformat": 4,
 "nbformat_minor": 2
}
